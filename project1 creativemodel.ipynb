{
 "cells": [
  {
   "cell_type": "code",
   "execution_count": null,
   "id": "7bc326c2",
   "metadata": {},
   "outputs": [],
   "source": [
    "import numpy as np\n",
    "import pandas as pd\n",
    "import random\n",
    "import pulp"
   ]
  },
  {
   "cell_type": "code",
   "execution_count": null,
   "id": "a43768fe",
   "metadata": {},
   "outputs": [],
   "source": [
    "alldish = pd.read_csv('finaldata.csv')"
   ]
  },
  {
   "cell_type": "code",
   "execution_count": null,
   "id": "a16d0283",
   "metadata": {},
   "outputs": [],
   "source": [
    "nutrition = alldish[['title', 'calories', 'sodium', 'fat', 'protein']]"
   ]
  },
  {
   "cell_type": "code",
   "execution_count": null,
   "id": "87832127",
   "metadata": {},
   "outputs": [],
   "source": [
    "meal = list(range(5))\n",
    "person = ['1', '2', '3', '4']\n",
    "dish = nutrition2['title'].tolist()"
   ]
  },
  {
   "cell_type": "code",
   "execution_count": null,
   "id": "d20106cf",
   "metadata": {},
   "outputs": [],
   "source": [
    "rating = pd.read_csv('rating.csv')\n",
    "title = nutrition['title'].values.tolist()\n",
    "rating = rating['title']\n",
    "price = alldish[['title', 'price']]\n",
    "cooking_time = alldish[['title', 'time']]\n",
    "availability_matrix = [[90, 240, 180, 90, 0],\n",
    "                       [60, 20, 130, 0, 240],\n",
    "                       [240, 240, 0, 75, 180],\n",
    "                       [60, 0, 60, 360, 240]]"
   ]
  },
  {
   "cell_type": "code",
   "execution_count": null,
   "id": "3b477db7",
   "metadata": {},
   "outputs": [],
   "source": [
    "def set_params_basic(meal, person, dish, \n",
    "                     rating, nutrition, price, availability_matrix, cooking_time):    \n",
    "    r = rating.values.tolist()\n",
    "    r = pulp.makeDict([person, dish], r, 0)\n",
    "    p = price['price'].values.tolist()\n",
    "    p = pulp.makeDict([dish], p, 0)\n",
    "    budget = 300\n",
    "    price_budget = [p, budget]\n",
    "    z = availability_matrix\n",
    "    z = pulp.makeDict([person, meal], z, 0)\n",
    "    n_sodium = nutrition['sodium'].tolist()\n",
    "    n_sodium = pulp.makeDict([dish], n_sodium, 0)\n",
    "    up_sodium = 2300 * 4 \n",
    "    low_sodium = 0    \n",
    "    n_calory = nutrition['calories'].tolist()\n",
    "    n_calory = pulp.makeDict([dish], n_calory, 0)\n",
    "    up_calory = 2000 * 4 \n",
    "    low_calory = 0\n",
    "    n_fat = nutrition['fat'].tolist()\n",
    "    n_fat = pulp.makeDict([dish], n_fat, 0)\n",
    "    up_fat = 35 * 4 \n",
    "    low_fat = 25 * 4     \n",
    "    n_protein = nutrition['protein'].tolist()\n",
    "    n_protein = pulp.makeDict([dish], n_protein, 0)\n",
    "    up_protein = 46 * 4\n",
    "    low_protein = 0\n",
    "    nutri = {'sodium': [n_sodium, up_sodium, low_sodium],\n",
    "             'calory': [n_calory, up_calory, low_calory],\n",
    "             'fat': [n_fat, up_fat, low_fat],\n",
    "             'protein': [n_protein, up_protein, low_protein]}\n",
    "    T = cooking_time['time'].values.tolist()\n",
    "    T = pulp.makeDict([dish], T, 0)    \n",
    "    ls_params_basic = [r, nutri, price_budget, a, z, T]\n",
    "    \n",
    "    return ls_params_basic"
   ]
  },
  {
   "cell_type": "code",
   "execution_count": null,
   "id": "699b7a1d",
   "metadata": {},
   "outputs": [],
   "source": [
    "def creative_model(meal, person, dish, ls_params_basic):\n",
    "    nm = len(meal)\n",
    "    ns = len(person)\n",
    "    nd = len(dish)\n",
    "    r = ls_params_basic[0]\n",
    "    nutri = ls_params_basic[1]\n",
    "    price_budget = ls_params_basic[2]\n",
    "    a = ls_params_basic[3]\n",
    "    z = ls_params_basic[4]\n",
    "    T = ls_params_basic[5]    \n",
    "    meals = pulp.LpProblem(\"Meal_Plan\", pulp.LpMaximize)\n",
    "    d = pulp.LpVariable.dicts(\"dish\", (dish, meal), 0, 1, pulp.LpInteger)\n",
    "    y = pulp.LpVariable.dicts(\"cook\", (p, meal), 0, 1, pulp.LpInteger)\n",
    "    meals += (pulp.lpSum([r[i][j] * d[j][k] for i in p for k in meal for j in dish] + C), 'sum_of_rating')\n",
    "    \n",
    "    for i in perosn:\n",
    "        for j in dish:\n",
    "            meals += (rt.iloc[i,j] <= C)\n",
    "\n",
    "    for k in meal:\n",
    "        meals += (pulp.lpSum([d[j][k] for j in dish]) <= 1)\n",
    "\n",
    "    for j in dish:\n",
    "        meals += (pulp.lpSum([d[j][k] for k in meal]) <= 1)\n",
    "\n",
    "    for k in range(5):\n",
    "        meals += (\n",
    "            pulp.lpSum([nutri['sodium'][0][j] * d[j][k] for j in dish]) <= nutri['sodium'][1]\n",
    "        )\n",
    "        meals += (\n",
    "            pulp.lpSum([nutri['sodium'][0][j] * d[j][k] for j in dish]) >= nutri['sodium'][2]\n",
    "        )\n",
    "\n",
    "        meals += (\n",
    "            pulp.lpSum([nutri['calory'][0][j] * d[j][k] for j in dish]) <= nutri['calory'][1]\n",
    "        )\n",
    "        meals += (\n",
    "            pulp.lpSum([nutri['calory'][0][j] * d[j][k] for j in dish]) >= nutri['calory'][2]\n",
    "        )\n",
    "\n",
    "        meals += (pulp.lpSum([nutri['fat'][0][j] * d[j][k] for j in dish]) <= nutri['fat'][1])\n",
    "        meals += (pulp.lpSum([nutri['fat'][0][j] * d[j][k] for j in dish]) >= nutri['fat'][2])\n",
    "\n",
    "        meals += (\n",
    "            pulp.lpSum([nutri['protein'][0][j] * d[j][k] for j in dish]) <= nutri['protein'][1]\n",
    "        )\n",
    "        meals += (\n",
    "            pulp.lpSum([nutri['protein'][0][j] * d[j][k] for j in dish]) >= nutri['protein'][2]\n",
    "        )\n",
    "        \n",
    "\n",
    "    meals += (pulp.lpSum([price_budget[0][j] * d[j][k] for j in dish for k in meal]) <= price_budget[1])\n",
    "\n",
    "    for i in person:\n",
    "        for k in meal:\n",
    "            meals += (y[i][k] <= z[i][k])\n",
    "\n",
    "    for k in meal:\n",
    "        meals += (pulp.lpSum([y[i][k] for i in person]) <= 1)\n",
    "\n",
    "    for i in p:\n",
    "        meals += (pulp.lpSum([y[i][k] for k in meal]) <= 2)\n",
    "        meals += (pulp.lpSum([y[i][k] for k in meal]) >= 1)\n",
    "\n",
    "    for k in meal:\n",
    "        for j in dish:\n",
    "            meals += (T[j] * d[j][k] <= pulp.lpSum([y[i][k] * z[i][k] for i in p]))\n",
    "            \n",
    "    status = meals.solve()\n",
    "    \n",
    "    return meals"
   ]
  },
  {
   "cell_type": "code",
   "execution_count": null,
   "id": "e0969543",
   "metadata": {},
   "outputs": [],
   "source": [
    "ls_params_basic = set_params_basic(meal, person, dish, \n",
    "                                   rating, nutrition, price, availability_matrix, cooking_time)\n",
    "meals_basic = basic_model(meal, p, dish, ls_params_basic)"
   ]
  }
 ],
 "metadata": {
  "kernelspec": {
   "display_name": "Python 3.9.7 ('base')",
   "language": "python",
   "name": "python3"
  },
  "language_info": {
   "codemirror_mode": {
    "name": "ipython",
    "version": 3
   },
   "file_extension": ".py",
   "mimetype": "text/x-python",
   "name": "python",
   "nbconvert_exporter": "python",
   "pygments_lexer": "ipython3",
   "version": "3.9.7"
  },
  "vscode": {
   "interpreter": {
    "hash": "ab9bb01e42d544e6979e27f1dab548af33dfabd3272c617970cef019e7d3bde4"
   }
  }
 },
 "nbformat": 4,
 "nbformat_minor": 5
}
