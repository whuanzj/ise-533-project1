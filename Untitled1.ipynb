{
 "cells": [
  {
   "cell_type": "code",
   "execution_count": null,
   "id": "7bc326c2",
   "metadata": {},
   "outputs": [],
   "source": [
    "import json\n",
    "import string\n",
    "import re\n",
    "import pandas as pd\n",
    "import numpy as np"
   ]
  },
  {
   "cell_type": "code",
   "execution_count": null,
   "id": "a43768fe",
   "metadata": {},
   "outputs": [],
   "source": [
    "data = json.load('result.json')\n",
    "df1=pd.DataFrame(data)"
   ]
  },
  {
   "cell_type": "code",
   "execution_count": 1,
   "id": "a4c99906",
   "metadata": {},
   "outputs": [],
   "source": [
    "def fenjie(w):\n",
    "    str=repr(w)\n",
    "    x = str.split(\"],\",20)\n",
    "    return x\n",
    "\n",
    "def fenjie2(w):\n",
    "    str=repr(w)\n",
    "    x = str.split(\"',\",20)\n",
    "    return x\n",
    "\n",
    "def fenjie3(w):\n",
    "    str=repr(w)\n",
    "    x = str.split(\",\",2)\n",
    "    return x[0]\n",
    "\n",
    "punctuation = '!,;:?\"\\[]\"\"'\n",
    "def removePunctuation(s):\n",
    "    s = re.sub(r'[^\\w\\s]','',s)\n",
    "    return s.strip()\n",
    "\n",
    "def clean(C):\n",
    "    C['rate'][2586]='5'\n",
    "    C['rate'][2521]='5'\n",
    "    C['rate'][1379]='5'\n",
    "    C['rate'][2846]='5'\n",
    "    C['rate'][2516]='4'\n",
    "    C_clear=C.drop(C[(C.rate=='')|(C.rate=='None')|(C.rate=='nan')].index)\n",
    "    C_clear['rate']=C_clear['rate'].astype(float)\n",
    "    return C_clear"
   ]
  },
  {
   "cell_type": "code",
   "execution_count": null,
   "id": "36369096",
   "metadata": {},
   "outputs": [],
   "source": [
    "index=[]\n",
    "info_name=[]\n",
    "info_rate=[]\n",
    "for i in range(len(dataframe.personal_rating)):\n",
    "    a=fenjie(dataframe.personal_rating[i])\n",
    "    for j in range(len(a)):\n",
    "        index.append(i)\n",
    "        info_name.append(removePunctuation(fenjie3(fenjie2(a[j])[0])))\n",
    "        info_rate.append(removePunctuation(fenjie2(a[j])[-1]))\n",
    "c={\"index\":index,\"name\":info_name,\"rate\":info_rate}\n",
    "C=pd.DataFrame(c)\n",
    "C=clean(C)\n",
    "dataframe['index']=dataframe.index\n",
    "left_join_df= pd.merge(C, dataframe, on='index', how='left')\n",
    "left_join_df.drop('personal_rating',axis=1)"
   ]
  },
  {
   "cell_type": "code",
   "execution_count": null,
   "id": "3d066315",
   "metadata": {},
   "outputs": [],
   "source": [
    "col=pd.unique(C.name)\n",
    "ind=pd.unique(C['index'])\n",
    "M=pd.DataFrame(0,\n",
    "             columns = col, \n",
    "             index = ind)\n",
    "M=M.astype(float)\n",
    "for i in C.index:\n",
    "    IND = C['index'][i]\n",
    "    NAME = C['name'][i]\n",
    "    M[NAME][IND] = C['rate'][i]"
   ]
  },
  {
   "cell_type": "code",
   "execution_count": null,
   "id": "494db3d3",
   "metadata": {},
   "outputs": [],
   "source": [
    "M.to_csv('clean.csv', index=False,\n",
    "          compression=compression_opts)"
   ]
  },
  {
   "cell_type": "code",
   "execution_count": null,
   "id": "8668e5af",
   "metadata": {},
   "outputs": [],
   "source": [
    "M"
   ]
  }
 ],
 "metadata": {
  "kernelspec": {
   "display_name": "Python 3 (ipykernel)",
   "language": "python",
   "name": "python3"
  },
  "language_info": {
   "codemirror_mode": {
    "name": "ipython",
    "version": 3
   },
   "file_extension": ".py",
   "mimetype": "text/x-python",
   "name": "python",
   "nbconvert_exporter": "python",
   "pygments_lexer": "ipython3",
   "version": "3.9.7"
  }
 },
 "nbformat": 4,
 "nbformat_minor": 5
}
