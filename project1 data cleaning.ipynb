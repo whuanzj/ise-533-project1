{
 "cells": [
  {
   "cell_type": "code",
   "execution_count": null,
   "id": "7bc326c2",
   "metadata": {},
   "outputs": [],
   "source": [
    "import json\n",
    "import string\n",
    "import re\n",
    "import pandas as pd\n",
    "import numpy as np"
   ]
  },
  {
   "cell_type": "code",
   "execution_count": null,
   "id": "a43768fe",
   "metadata": {},
   "outputs": [],
   "source": [
    "cooking_time = json.load('cooking_time.json')\n",
    "cooking_time = pd.DataFrame(cooking_time, index = ['time']).T\n",
    "cooking_time['title'] = cooking_time.index\n",
    "cooking_time.index = range(len(cooking_time['title']))\n",
    "cooking_time"
   ]
  },
  {
   "cell_type": "code",
   "execution_count": null,
   "id": "f8b080d1",
   "metadata": {},
   "outputs": [],
   "source": [
    "price = json.load('recipe_prices.json')\n",
    "price = pd.DataFrame(price, index = ['price']).T\n",
    "price['title'] = price.index\n",
    "price.index = range(len(price['title']))\n",
    "price"
   ]
  },
  {
   "cell_type": "code",
   "execution_count": null,
   "id": "3bffe46c",
   "metadata": {},
   "outputs": [],
   "source": [
    "data = json.load('result.json')\n",
    "data = pd.DataFrame(data)\n",
    "data_merge_price = data_nan.merge(price, how = 'inner', on = 'title')\n",
    "data_final = data_merge_price.merge(cooking_time, how = 'inner', on = 'title')\n",
    "data_final.to_csv('finaldata.csv')"
   ]
  }
 ],
 "metadata": {
  "kernelspec": {
   "display_name": "Python 3 (ipykernel)",
   "language": "python",
   "name": "python3"
  },
  "language_info": {
   "codemirror_mode": {
    "name": "ipython",
    "version": 3
   },
   "file_extension": ".py",
   "mimetype": "text/x-python",
   "name": "python",
   "nbconvert_exporter": "python",
   "pygments_lexer": "ipython3",
   "version": "3.9.7"
  }
 },
 "nbformat": 4,
 "nbformat_minor": 5
}
